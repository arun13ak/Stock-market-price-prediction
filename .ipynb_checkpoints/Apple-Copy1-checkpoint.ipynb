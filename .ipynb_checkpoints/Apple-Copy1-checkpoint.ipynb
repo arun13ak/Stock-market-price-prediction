{
 "cells": [
  {
   "cell_type": "markdown",
   "id": "1a82b58f",
   "metadata": {},
   "source": [
    "# Stock Market Prediction-Apple"
   ]
  },
  {
   "cell_type": "markdown",
   "id": "16083637",
   "metadata": {},
   "source": [
    "## Importing libraries"
   ]
  },
  {
   "cell_type": "code",
   "execution_count": 1,
   "id": "521c2283",
   "metadata": {},
   "outputs": [],
   "source": [
    "import math\n",
    "import pandas as pd\n",
    "import numpy as np\n",
    "from sklearn.preprocessing import MinMaxScaler\n",
    "from keras.models import Sequential\n",
    "import pandas_datareader as web\n",
    "from keras.layers import Dense,LSTM,Dropout\n",
    "import matplotlib.pyplot as plt\n",
    "%matplotlib inline"
   ]
  },
  {
   "cell_type": "code",
   "execution_count": 8,
   "id": "1a4958fb",
   "metadata": {},
   "outputs": [],
   "source": [
    "df=web.DataReader('AAPL',data_source='yahoo',start='2000-01-01',end='2022-12-1')"
   ]
  },
  {
   "cell_type": "code",
   "execution_count": 9,
   "id": "511155a9",
   "metadata": {
    "scrolled": false
   },
   "outputs": [
    {
     "data": {
      "text/html": [
       "<div>\n",
       "<style scoped>\n",
       "    .dataframe tbody tr th:only-of-type {\n",
       "        vertical-align: middle;\n",
       "    }\n",
       "\n",
       "    .dataframe tbody tr th {\n",
       "        vertical-align: top;\n",
       "    }\n",
       "\n",
       "    .dataframe thead th {\n",
       "        text-align: right;\n",
       "    }\n",
       "</style>\n",
       "<table border=\"1\" class=\"dataframe\">\n",
       "  <thead>\n",
       "    <tr style=\"text-align: right;\">\n",
       "      <th></th>\n",
       "      <th>High</th>\n",
       "      <th>Low</th>\n",
       "      <th>Open</th>\n",
       "      <th>Close</th>\n",
       "      <th>Volume</th>\n",
       "      <th>Adj Close</th>\n",
       "    </tr>\n",
       "    <tr>\n",
       "      <th>Date</th>\n",
       "      <th></th>\n",
       "      <th></th>\n",
       "      <th></th>\n",
       "      <th></th>\n",
       "      <th></th>\n",
       "      <th></th>\n",
       "    </tr>\n",
       "  </thead>\n",
       "  <tbody>\n",
       "    <tr>\n",
       "      <th>1999-12-31</th>\n",
       "      <td>0.918527</td>\n",
       "      <td>0.888393</td>\n",
       "      <td>0.901228</td>\n",
       "      <td>0.917969</td>\n",
       "      <td>1.638112e+08</td>\n",
       "      <td>0.782493</td>\n",
       "    </tr>\n",
       "    <tr>\n",
       "      <th>2000-01-03</th>\n",
       "      <td>1.004464</td>\n",
       "      <td>0.907924</td>\n",
       "      <td>0.936384</td>\n",
       "      <td>0.999442</td>\n",
       "      <td>5.357968e+08</td>\n",
       "      <td>0.851942</td>\n",
       "    </tr>\n",
       "    <tr>\n",
       "      <th>2000-01-04</th>\n",
       "      <td>0.987723</td>\n",
       "      <td>0.903460</td>\n",
       "      <td>0.966518</td>\n",
       "      <td>0.915179</td>\n",
       "      <td>5.123776e+08</td>\n",
       "      <td>0.780115</td>\n",
       "    </tr>\n",
       "    <tr>\n",
       "      <th>2000-01-05</th>\n",
       "      <td>0.987165</td>\n",
       "      <td>0.919643</td>\n",
       "      <td>0.926339</td>\n",
       "      <td>0.928571</td>\n",
       "      <td>7.783216e+08</td>\n",
       "      <td>0.791530</td>\n",
       "    </tr>\n",
       "    <tr>\n",
       "      <th>2000-01-06</th>\n",
       "      <td>0.955357</td>\n",
       "      <td>0.848214</td>\n",
       "      <td>0.947545</td>\n",
       "      <td>0.848214</td>\n",
       "      <td>7.679728e+08</td>\n",
       "      <td>0.723033</td>\n",
       "    </tr>\n",
       "    <tr>\n",
       "      <th>2000-01-07</th>\n",
       "      <td>0.901786</td>\n",
       "      <td>0.852679</td>\n",
       "      <td>0.861607</td>\n",
       "      <td>0.888393</td>\n",
       "      <td>4.607344e+08</td>\n",
       "      <td>0.757282</td>\n",
       "    </tr>\n",
       "    <tr>\n",
       "      <th>2000-01-10</th>\n",
       "      <td>0.912946</td>\n",
       "      <td>0.845982</td>\n",
       "      <td>0.910714</td>\n",
       "      <td>0.872768</td>\n",
       "      <td>5.050640e+08</td>\n",
       "      <td>0.743963</td>\n",
       "    </tr>\n",
       "    <tr>\n",
       "      <th>2000-01-11</th>\n",
       "      <td>0.887277</td>\n",
       "      <td>0.808036</td>\n",
       "      <td>0.856585</td>\n",
       "      <td>0.828125</td>\n",
       "      <td>4.415488e+08</td>\n",
       "      <td>0.705909</td>\n",
       "    </tr>\n",
       "    <tr>\n",
       "      <th>2000-01-12</th>\n",
       "      <td>0.852679</td>\n",
       "      <td>0.772321</td>\n",
       "      <td>0.848214</td>\n",
       "      <td>0.778460</td>\n",
       "      <td>9.760688e+08</td>\n",
       "      <td>0.663573</td>\n",
       "    </tr>\n",
       "    <tr>\n",
       "      <th>2000-01-13</th>\n",
       "      <td>0.881696</td>\n",
       "      <td>0.825893</td>\n",
       "      <td>0.843610</td>\n",
       "      <td>0.863839</td>\n",
       "      <td>1.032685e+09</td>\n",
       "      <td>0.736352</td>\n",
       "    </tr>\n",
       "    <tr>\n",
       "      <th>2000-01-14</th>\n",
       "      <td>0.912946</td>\n",
       "      <td>0.887277</td>\n",
       "      <td>0.892857</td>\n",
       "      <td>0.896763</td>\n",
       "      <td>3.903760e+08</td>\n",
       "      <td>0.764417</td>\n",
       "    </tr>\n",
       "    <tr>\n",
       "      <th>2000-01-18</th>\n",
       "      <td>0.946429</td>\n",
       "      <td>0.896763</td>\n",
       "      <td>0.901786</td>\n",
       "      <td>0.928013</td>\n",
       "      <td>4.591776e+08</td>\n",
       "      <td>0.791055</td>\n",
       "    </tr>\n",
       "    <tr>\n",
       "      <th>2000-01-19</th>\n",
       "      <td>0.970982</td>\n",
       "      <td>0.922991</td>\n",
       "      <td>0.943080</td>\n",
       "      <td>0.951451</td>\n",
       "      <td>5.976432e+08</td>\n",
       "      <td>0.811034</td>\n",
       "    </tr>\n",
       "    <tr>\n",
       "      <th>2000-01-20</th>\n",
       "      <td>1.084821</td>\n",
       "      <td>1.013393</td>\n",
       "      <td>1.031250</td>\n",
       "      <td>1.013393</td>\n",
       "      <td>1.831133e+09</td>\n",
       "      <td>0.863834</td>\n",
       "    </tr>\n",
       "    <tr>\n",
       "      <th>2000-01-21</th>\n",
       "      <td>1.020089</td>\n",
       "      <td>0.983817</td>\n",
       "      <td>1.020089</td>\n",
       "      <td>0.993862</td>\n",
       "      <td>4.959248e+08</td>\n",
       "      <td>0.847186</td>\n",
       "    </tr>\n",
       "    <tr>\n",
       "      <th>2000-01-24</th>\n",
       "      <td>1.006696</td>\n",
       "      <td>0.938616</td>\n",
       "      <td>0.968192</td>\n",
       "      <td>0.948661</td>\n",
       "      <td>4.408768e+08</td>\n",
       "      <td>0.808656</td>\n",
       "    </tr>\n",
       "    <tr>\n",
       "      <th>2000-01-25</th>\n",
       "      <td>1.010045</td>\n",
       "      <td>0.914063</td>\n",
       "      <td>0.937500</td>\n",
       "      <td>1.002232</td>\n",
       "      <td>4.971456e+08</td>\n",
       "      <td>0.854321</td>\n",
       "    </tr>\n",
       "    <tr>\n",
       "      <th>2000-01-26</th>\n",
       "      <td>1.019531</td>\n",
       "      <td>0.979911</td>\n",
       "      <td>0.982143</td>\n",
       "      <td>0.983817</td>\n",
       "      <td>3.671584e+08</td>\n",
       "      <td>0.838623</td>\n",
       "    </tr>\n",
       "    <tr>\n",
       "      <th>2000-01-27</th>\n",
       "      <td>1.008929</td>\n",
       "      <td>0.955357</td>\n",
       "      <td>0.971540</td>\n",
       "      <td>0.982143</td>\n",
       "      <td>3.401440e+08</td>\n",
       "      <td>0.837196</td>\n",
       "    </tr>\n",
       "    <tr>\n",
       "      <th>2000-01-28</th>\n",
       "      <td>0.989955</td>\n",
       "      <td>0.898438</td>\n",
       "      <td>0.965960</td>\n",
       "      <td>0.907366</td>\n",
       "      <td>4.233488e+08</td>\n",
       "      <td>0.773455</td>\n",
       "    </tr>\n",
       "  </tbody>\n",
       "</table>\n",
       "</div>"
      ],
      "text/plain": [
       "                High       Low      Open     Close        Volume  Adj Close\n",
       "Date                                                                       \n",
       "1999-12-31  0.918527  0.888393  0.901228  0.917969  1.638112e+08   0.782493\n",
       "2000-01-03  1.004464  0.907924  0.936384  0.999442  5.357968e+08   0.851942\n",
       "2000-01-04  0.987723  0.903460  0.966518  0.915179  5.123776e+08   0.780115\n",
       "2000-01-05  0.987165  0.919643  0.926339  0.928571  7.783216e+08   0.791530\n",
       "2000-01-06  0.955357  0.848214  0.947545  0.848214  7.679728e+08   0.723033\n",
       "2000-01-07  0.901786  0.852679  0.861607  0.888393  4.607344e+08   0.757282\n",
       "2000-01-10  0.912946  0.845982  0.910714  0.872768  5.050640e+08   0.743963\n",
       "2000-01-11  0.887277  0.808036  0.856585  0.828125  4.415488e+08   0.705909\n",
       "2000-01-12  0.852679  0.772321  0.848214  0.778460  9.760688e+08   0.663573\n",
       "2000-01-13  0.881696  0.825893  0.843610  0.863839  1.032685e+09   0.736352\n",
       "2000-01-14  0.912946  0.887277  0.892857  0.896763  3.903760e+08   0.764417\n",
       "2000-01-18  0.946429  0.896763  0.901786  0.928013  4.591776e+08   0.791055\n",
       "2000-01-19  0.970982  0.922991  0.943080  0.951451  5.976432e+08   0.811034\n",
       "2000-01-20  1.084821  1.013393  1.031250  1.013393  1.831133e+09   0.863834\n",
       "2000-01-21  1.020089  0.983817  1.020089  0.993862  4.959248e+08   0.847186\n",
       "2000-01-24  1.006696  0.938616  0.968192  0.948661  4.408768e+08   0.808656\n",
       "2000-01-25  1.010045  0.914063  0.937500  1.002232  4.971456e+08   0.854321\n",
       "2000-01-26  1.019531  0.979911  0.982143  0.983817  3.671584e+08   0.838623\n",
       "2000-01-27  1.008929  0.955357  0.971540  0.982143  3.401440e+08   0.837196\n",
       "2000-01-28  0.989955  0.898438  0.965960  0.907366  4.233488e+08   0.773455"
      ]
     },
     "execution_count": 9,
     "metadata": {},
     "output_type": "execute_result"
    }
   ],
   "source": [
    "df.head(20)"
   ]
  },
  {
   "cell_type": "code",
   "execution_count": 10,
   "id": "5abdc2fc",
   "metadata": {},
   "outputs": [
    {
     "data": {
      "text/html": [
       "<div>\n",
       "<style scoped>\n",
       "    .dataframe tbody tr th:only-of-type {\n",
       "        vertical-align: middle;\n",
       "    }\n",
       "\n",
       "    .dataframe tbody tr th {\n",
       "        vertical-align: top;\n",
       "    }\n",
       "\n",
       "    .dataframe thead th {\n",
       "        text-align: right;\n",
       "    }\n",
       "</style>\n",
       "<table border=\"1\" class=\"dataframe\">\n",
       "  <thead>\n",
       "    <tr style=\"text-align: right;\">\n",
       "      <th></th>\n",
       "      <th>High</th>\n",
       "      <th>Low</th>\n",
       "      <th>Open</th>\n",
       "      <th>Close</th>\n",
       "      <th>Volume</th>\n",
       "      <th>Adj Close</th>\n",
       "    </tr>\n",
       "    <tr>\n",
       "      <th>Date</th>\n",
       "      <th></th>\n",
       "      <th></th>\n",
       "      <th></th>\n",
       "      <th></th>\n",
       "      <th></th>\n",
       "      <th></th>\n",
       "    </tr>\n",
       "  </thead>\n",
       "  <tbody>\n",
       "    <tr>\n",
       "      <th>2022-11-25</th>\n",
       "      <td>148.880005</td>\n",
       "      <td>147.119995</td>\n",
       "      <td>148.309998</td>\n",
       "      <td>148.110001</td>\n",
       "      <td>35195900.0</td>\n",
       "      <td>148.110001</td>\n",
       "    </tr>\n",
       "    <tr>\n",
       "      <th>2022-11-28</th>\n",
       "      <td>146.639999</td>\n",
       "      <td>143.380005</td>\n",
       "      <td>145.139999</td>\n",
       "      <td>144.220001</td>\n",
       "      <td>69246000.0</td>\n",
       "      <td>144.220001</td>\n",
       "    </tr>\n",
       "    <tr>\n",
       "      <th>2022-11-29</th>\n",
       "      <td>144.809998</td>\n",
       "      <td>140.350006</td>\n",
       "      <td>144.289993</td>\n",
       "      <td>141.169998</td>\n",
       "      <td>83763800.0</td>\n",
       "      <td>141.169998</td>\n",
       "    </tr>\n",
       "    <tr>\n",
       "      <th>2022-11-30</th>\n",
       "      <td>148.720001</td>\n",
       "      <td>140.550003</td>\n",
       "      <td>141.399994</td>\n",
       "      <td>148.029999</td>\n",
       "      <td>111224400.0</td>\n",
       "      <td>148.029999</td>\n",
       "    </tr>\n",
       "    <tr>\n",
       "      <th>2022-12-01</th>\n",
       "      <td>149.130005</td>\n",
       "      <td>146.615005</td>\n",
       "      <td>148.210007</td>\n",
       "      <td>148.309998</td>\n",
       "      <td>71250416.0</td>\n",
       "      <td>148.309998</td>\n",
       "    </tr>\n",
       "  </tbody>\n",
       "</table>\n",
       "</div>"
      ],
      "text/plain": [
       "                  High         Low        Open       Close       Volume  \\\n",
       "Date                                                                      \n",
       "2022-11-25  148.880005  147.119995  148.309998  148.110001   35195900.0   \n",
       "2022-11-28  146.639999  143.380005  145.139999  144.220001   69246000.0   \n",
       "2022-11-29  144.809998  140.350006  144.289993  141.169998   83763800.0   \n",
       "2022-11-30  148.720001  140.550003  141.399994  148.029999  111224400.0   \n",
       "2022-12-01  149.130005  146.615005  148.210007  148.309998   71250416.0   \n",
       "\n",
       "             Adj Close  \n",
       "Date                    \n",
       "2022-11-25  148.110001  \n",
       "2022-11-28  144.220001  \n",
       "2022-11-29  141.169998  \n",
       "2022-11-30  148.029999  \n",
       "2022-12-01  148.309998  "
      ]
     },
     "execution_count": 10,
     "metadata": {},
     "output_type": "execute_result"
    }
   ],
   "source": [
    "df.tail()"
   ]
  },
  {
   "cell_type": "code",
   "execution_count": 11,
   "id": "f20bb629",
   "metadata": {},
   "outputs": [
    {
     "data": {
      "text/plain": [
       "(5768, 6)"
      ]
     },
     "execution_count": 11,
     "metadata": {},
     "output_type": "execute_result"
    }
   ],
   "source": [
    "df.shape"
   ]
  },
  {
   "cell_type": "markdown",
   "id": "342d2083",
   "metadata": {},
   "source": [
    "## Visualization on closing data of Apple"
   ]
  },
  {
   "cell_type": "code",
   "execution_count": 12,
   "id": "f1e6cbd5",
   "metadata": {},
   "outputs": [
    {
     "data": {
      "image/png": "[encoded data removed]",
      "text/plain": [
       "<Figure size 1080x720 with 1 Axes>"
      ]
     },
     "metadata": {
      "needs_background": "light"
     },
     "output_type": "display_data"
    }
   ],
   "source": [
    "plt.figure(figsize=(15,10))\n",
    "plt.title('Apple closing data visualization',fontsize=30)\n",
    "plt.xlabel('Years',fontsize=30)\n",
    "plt.ylabel(\"Close\",fontsize=30)\n",
    "plt.plot(df['Close'])\n",
    "plt.show()"
   ]
  },
  {
   "cell_type": "code",
   "execution_count": 13,
   "id": "aef8ff78",
   "metadata": {},
   "outputs": [],
   "source": [
    "df=df[['Close']]"
   ]
  },
  {
   "cell_type": "code",
   "execution_count": 14,
   "id": "9aa31cdd",
   "metadata": {},
   "outputs": [
    {
     "data": {
      "text/html": [
       "<div>\n",
       "<style scoped>\n",
       "    .dataframe tbody tr th:only-of-type {\n",
       "        vertical-align: middle;\n",
       "    }\n",
       "\n",
       "    .dataframe tbody tr th {\n",
       "        vertical-align: top;\n",
       "    }\n",
       "\n",
       "    .dataframe thead th {\n",
       "        text-align: right;\n",
       "    }\n",
       "</style>\n",
       "<table border=\"1\" class=\"dataframe\">\n",
       "  <thead>\n",
       "    <tr style=\"text-align: right;\">\n",
       "      <th></th>\n",
       "      <th>Close</th>\n",
       "    </tr>\n",
       "    <tr>\n",
       "      <th>Date</th>\n",
       "      <th></th>\n",
       "    </tr>\n",
       "  </thead>\n",
       "  <tbody>\n",
       "    <tr>\n",
       "      <th>1999-12-31</th>\n",
       "      <td>0.917969</td>\n",
       "    </tr>\n",
       "    <tr>\n",
       "      <th>2000-01-03</th>\n",
       "      <td>0.999442</td>\n",
       "    </tr>\n",
       "    <tr>\n",
       "      <th>2000-01-04</th>\n",
       "      <td>0.915179</td>\n",
       "    </tr>\n",
       "    <tr>\n",
       "      <th>2000-01-05</th>\n",
       "      <td>0.928571</td>\n",
       "    </tr>\n",
       "    <tr>\n",
       "      <th>2000-01-06</th>\n",
       "      <td>0.848214</td>\n",
       "    </tr>\n",
       "    <tr>\n",
       "      <th>2000-01-07</th>\n",
       "      <td>0.888393</td>\n",
       "    </tr>\n",
       "    <tr>\n",
       "      <th>2000-01-10</th>\n",
       "      <td>0.872768</td>\n",
       "    </tr>\n",
       "    <tr>\n",
       "      <th>2000-01-11</th>\n",
       "      <td>0.828125</td>\n",
       "    </tr>\n",
       "    <tr>\n",
       "      <th>2000-01-12</th>\n",
       "      <td>0.778460</td>\n",
       "    </tr>\n",
       "    <tr>\n",
       "      <th>2000-01-13</th>\n",
       "      <td>0.863839</td>\n",
       "    </tr>\n",
       "  </tbody>\n",
       "</table>\n",
       "</div>"
      ],
      "text/plain": [
       "               Close\n",
       "Date                \n",
       "1999-12-31  0.917969\n",
       "2000-01-03  0.999442\n",
       "2000-01-04  0.915179\n",
       "2000-01-05  0.928571\n",
       "2000-01-06  0.848214\n",
       "2000-01-07  0.888393\n",
       "2000-01-10  0.872768\n",
       "2000-01-11  0.828125\n",
       "2000-01-12  0.778460\n",
       "2000-01-13  0.863839"
      ]
     },
     "execution_count": 14,
     "metadata": {},
     "output_type": "execute_result"
    }
   ],
   "source": [
    "df.head(10)"
   ]
  },
  {
   "cell_type": "markdown",
   "id": "c805a730",
   "metadata": {},
   "source": [
    "#### Filtering the Close data into data"
   ]
  },
  {
   "cell_type": "code",
   "execution_count": 15,
   "id": "3d840a30",
   "metadata": {},
   "outputs": [],
   "source": [
    "data=df.filter(['Close'])"
   ]
  },
  {
   "cell_type": "markdown",
   "id": "5fd042cc",
   "metadata": {},
   "source": [
    "#### Converting to numpy array"
   ]
  },
  {
   "cell_type": "code",
   "execution_count": 16,
   "id": "c4293b07",
   "metadata": {},
   "outputs": [],
   "source": [
    "dataset=data.values"
   ]
  },
  {
   "cell_type": "code",
   "execution_count": 17,
   "id": "18e03c9c",
   "metadata": {},
   "outputs": [
    {
     "data": {
      "text/plain": [
       "array([[  0.91796899],\n",
       "       [  0.99944198],\n",
       "       [  0.91517901],\n",
       "       ...,\n",
       "       [141.16999817],\n",
       "       [148.02999878],\n",
       "       [148.30999756]])"
      ]
     },
     "execution_count": 17,
     "metadata": {},
     "output_type": "execute_result"
    }
   ],
   "source": [
    "dataset"
   ]
  },
  {
   "cell_type": "markdown",
   "id": "34ad83ab",
   "metadata": {},
   "source": [
    "#### Fixing training rows "
   ]
  },
  {
   "cell_type": "code",
   "execution_count": 18,
   "id": "b228629b",
   "metadata": {
    "scrolled": true
   },
   "outputs": [
    {
     "data": {
      "text/plain": [
       "4615"
      ]
     },
     "execution_count": 18,
     "metadata": {},
     "output_type": "execute_result"
    }
   ],
   "source": [
    "training_data_len=math.ceil(len(dataset)*.8)\n",
    "training_data_len"
   ]
  },
  {
   "cell_type": "markdown",
   "id": "460a2c59",
   "metadata": {},
   "source": [
    "## Scaling"
   ]
  },
  {
   "cell_type": "code",
   "execution_count": 19,
   "id": "37bc0b54",
   "metadata": {},
   "outputs": [],
   "source": [
    "scaler=MinMaxScaler(feature_range=(0,1))\n",
    "scaled_data=scaler.fit_transform(dataset)"
   ]
  },
  {
   "cell_type": "code",
   "execution_count": 20,
   "id": "3cf4f547",
   "metadata": {
    "scrolled": true
   },
   "outputs": [
    {
     "data": {
      "text/html": [
       "<div>\n",
       "<style scoped>\n",
       "    .dataframe tbody tr th:only-of-type {\n",
       "        vertical-align: middle;\n",
       "    }\n",
       "\n",
       "    .dataframe tbody tr th {\n",
       "        vertical-align: top;\n",
       "    }\n",
       "\n",
       "    .dataframe thead th {\n",
       "        text-align: right;\n",
       "    }\n",
       "</style>\n",
       "<table border=\"1\" class=\"dataframe\">\n",
       "  <thead>\n",
       "    <tr style=\"text-align: right;\">\n",
       "      <th></th>\n",
       "      <th>0</th>\n",
       "    </tr>\n",
       "  </thead>\n",
       "  <tbody>\n",
       "    <tr>\n",
       "      <th>0</th>\n",
       "      <td>0.003761</td>\n",
       "    </tr>\n",
       "    <tr>\n",
       "      <th>1</th>\n",
       "      <td>0.004209</td>\n",
       "    </tr>\n",
       "    <tr>\n",
       "      <th>2</th>\n",
       "      <td>0.003746</td>\n",
       "    </tr>\n",
       "    <tr>\n",
       "      <th>3</th>\n",
       "      <td>0.003819</td>\n",
       "    </tr>\n",
       "    <tr>\n",
       "      <th>4</th>\n",
       "      <td>0.003377</td>\n",
       "    </tr>\n",
       "    <tr>\n",
       "      <th>...</th>\n",
       "      <td>...</td>\n",
       "    </tr>\n",
       "    <tr>\n",
       "      <th>5763</th>\n",
       "      <td>0.813506</td>\n",
       "    </tr>\n",
       "    <tr>\n",
       "      <th>5764</th>\n",
       "      <td>0.792106</td>\n",
       "    </tr>\n",
       "    <tr>\n",
       "      <th>5765</th>\n",
       "      <td>0.775328</td>\n",
       "    </tr>\n",
       "    <tr>\n",
       "      <th>5766</th>\n",
       "      <td>0.813066</td>\n",
       "    </tr>\n",
       "    <tr>\n",
       "      <th>5767</th>\n",
       "      <td>0.814607</td>\n",
       "    </tr>\n",
       "  </tbody>\n",
       "</table>\n",
       "<p>5768 rows × 1 columns</p>\n",
       "</div>"
      ],
      "text/plain": [
       "             0\n",
       "0     0.003761\n",
       "1     0.004209\n",
       "2     0.003746\n",
       "3     0.003819\n",
       "4     0.003377\n",
       "...        ...\n",
       "5763  0.813506\n",
       "5764  0.792106\n",
       "5765  0.775328\n",
       "5766  0.813066\n",
       "5767  0.814607\n",
       "\n",
       "[5768 rows x 1 columns]"
      ]
     },
     "execution_count": 20,
     "metadata": {},
     "output_type": "execute_result"
    }
   ],
   "source": [
    "pd.DataFrame(scaled_data)"
   ]
  },
  {
   "cell_type": "code",
   "execution_count": 21,
   "id": "411bfede",
   "metadata": {},
   "outputs": [
    {
     "name": "stdout",
     "output_type": "stream",
     "text": [
      "[array([0.00376114, 0.00420934, 0.00374579, 0.00381946, 0.00337739,\n",
      "       0.00359843, 0.00351247, 0.00326688, 0.00299366, 0.00346335,\n",
      "       0.00364448, 0.00381639, 0.00394533, 0.00428609, 0.00417864,\n",
      "       0.00392998, 0.00422469, 0.00412338, 0.00411417, 0.0037028 ,\n",
      "       0.00380718, 0.00363527, 0.00356466, 0.00378569, 0.00401594,\n",
      "       0.00431372, 0.00435363, 0.00424311, 0.00428609, 0.00405277,\n",
      "       0.00439967, 0.00455624, 0.00431679, 0.00435363, 0.00417557,\n",
      "       0.00430144, 0.00442116, 0.00436974, 0.00413259, 0.00427381,\n",
      "       0.00434135, 0.00511189, 0.0047036 , 0.00499831, 0.00488472,\n",
      "       0.00474657, 0.0047036 , 0.00471588, 0.00488779, 0.00466983,\n",
      "       0.00432293, 0.00442116, 0.00468211, 0.00485095, 0.00475271,\n",
      "       0.00533907, 0.00579341, 0.0056522 , 0.00552326, 0.00556624])]\n",
      "[0.005544756170813445]\n",
      "[array([0.00376114, 0.00420934, 0.00374579, 0.00381946, 0.00337739,\n",
      "       0.00359843, 0.00351247, 0.00326688, 0.00299366, 0.00346335,\n",
      "       0.00364448, 0.00381639, 0.00394533, 0.00428609, 0.00417864,\n",
      "       0.00392998, 0.00422469, 0.00412338, 0.00411417, 0.0037028 ,\n",
      "       0.00380718, 0.00363527, 0.00356466, 0.00378569, 0.00401594,\n",
      "       0.00431372, 0.00435363, 0.00424311, 0.00428609, 0.00405277,\n",
      "       0.00439967, 0.00455624, 0.00431679, 0.00435363, 0.00417557,\n",
      "       0.00430144, 0.00442116, 0.00436974, 0.00413259, 0.00427381,\n",
      "       0.00434135, 0.00511189, 0.0047036 , 0.00499831, 0.00488472,\n",
      "       0.00474657, 0.0047036 , 0.00471588, 0.00488779, 0.00466983,\n",
      "       0.00432293, 0.00442116, 0.00468211, 0.00485095, 0.00475271,\n",
      "       0.00533907, 0.00579341, 0.0056522 , 0.00552326, 0.00556624]), array([0.00420934, 0.00374579, 0.00381946, 0.00337739, 0.00359843,\n",
      "       0.00351247, 0.00326688, 0.00299366, 0.00346335, 0.00364448,\n",
      "       0.00381639, 0.00394533, 0.00428609, 0.00417864, 0.00392998,\n",
      "       0.00422469, 0.00412338, 0.00411417, 0.0037028 , 0.00380718,\n",
      "       0.00363527, 0.00356466, 0.00378569, 0.00401594, 0.00431372,\n",
      "       0.00435363, 0.00424311, 0.00428609, 0.00405277, 0.00439967,\n",
      "       0.00455624, 0.00431679, 0.00435363, 0.00417557, 0.00430144,\n",
      "       0.00442116, 0.00436974, 0.00413259, 0.00427381, 0.00434135,\n",
      "       0.00511189, 0.0047036 , 0.00499831, 0.00488472, 0.00474657,\n",
      "       0.0047036 , 0.00471588, 0.00488779, 0.00466983, 0.00432293,\n",
      "       0.00442116, 0.00468211, 0.00485095, 0.00475271, 0.00533907,\n",
      "       0.00579341, 0.0056522 , 0.00552326, 0.00556624, 0.00554476])]\n",
      "[0.005544756170813445, 0.005388189454499107]\n"
     ]
    }
   ],
   "source": [
    "train_data=scaled_data[0:training_data_len,:]\n",
    "x_train=[]\n",
    "y_train=[]\n",
    "\n",
    "for i in range(60,len(train_data)):\n",
    "    x_train.append(train_data[i-60:i,0])\n",
    "    y_train.append(train_data[i,0])\n",
    "    \n",
    "    if i<=61:\n",
    "        print(x_train)\n",
    "        print(y_train)\n",
    "    "
   ]
  },
  {
   "cell_type": "code",
   "execution_count": 22,
   "id": "c2186bd4",
   "metadata": {},
   "outputs": [],
   "source": [
    "x_train,y_train=np.array(x_train),np.array(y_train)"
   ]
  },
  {
   "cell_type": "code",
   "execution_count": 23,
   "id": "f649138b",
   "metadata": {},
   "outputs": [
    {
     "data": {
      "text/plain": [
       "(4555, 60)"
      ]
     },
     "execution_count": 23,
     "metadata": {},
     "output_type": "execute_result"
    }
   ],
   "source": [
    "x_train.shape"
   ]
  },
  {
   "cell_type": "code",
   "execution_count": 24,
   "id": "743cbc3a",
   "metadata": {},
   "outputs": [
    {
     "data": {
      "text/plain": [
       "(4555, 60, 1)"
      ]
     },
     "execution_count": 24,
     "metadata": {},
     "output_type": "execute_result"
    }
   ],
   "source": [
    "x_train=np.reshape(x_train,(x_train.shape[0],x_train.shape[1],1))\n",
    "x_train.shape"
   ]
  },
  {
   "cell_type": "code",
   "execution_count": 25,
   "id": "e9aafa8c",
   "metadata": {},
   "outputs": [],
   "source": [
    "test_data=scaled_data[training_data_len-60:,:]\n",
    "x_test=[]\n",
    "y_test=dataset[training_data_len:,:]\n",
    "for i in range(60,len(test_data)):\n",
    "    x_test.append(test_data[i-60:i,0])\n",
    "x_test=np.array(x_test)\n",
    "x_test=np.reshape(x_test,(x_test.shape[0],x_test.shape[1],1))"
   ]
  },
  {
   "cell_type": "code",
   "execution_count": 26,
   "id": "8e0967a0",
   "metadata": {},
   "outputs": [
    {
     "name": "stdout",
     "output_type": "stream",
     "text": [
      "(4555, 60, 1)\n",
      "(4555,)\n",
      "(1153, 60, 1)\n",
      "(1153, 1)\n"
     ]
    }
   ],
   "source": [
    "print(x_train.shape)\n",
    "print(y_train.shape)\n",
    "print(x_test.shape)\n",
    "print(y_test.shape)"
   ]
  },
  {
   "cell_type": "markdown",
   "id": "4c10a447",
   "metadata": {},
   "source": [
    "### Adding Layers"
   ]
  },
  {
   "cell_type": "code",
   "execution_count": 27,
   "id": "08ef74e7",
   "metadata": {},
   "outputs": [],
   "source": [
    "model=Sequential() \n",
    "model.add(LSTM(80,return_sequences=True,input_shape=(x_train.shape[1],1)))     \n",
    "model.add(Dropout(0.15))\n",
    "model.add(LSTM(80,return_sequences=True))     \n",
    "model.add(Dropout(0.15))\n",
    "model.add(LSTM(80,return_sequences=False)) \n",
    "model.add(Dropout(0.15))\n",
    "model.add(Dense(25))\n",
    "model.add(Dense(1))"
   ]
  },
  {
   "cell_type": "code",
   "execution_count": 28,
   "id": "18c5cf15",
   "metadata": {},
   "outputs": [],
   "source": [
    "model.compile(optimizer='adam',loss='MSE',metrics=['accuracy'])"
   ]
  },
  {
   "cell_type": "code",
   "execution_count": 29,
   "id": "1351beae",
   "metadata": {},
   "outputs": [
    {
     "name": "stdout",
     "output_type": "stream",
     "text": [
      "Epoch 1/20\n",
      "911/911 [==============================] - 82s 79ms/step - loss: 1.4610e-04 - accuracy: 2.1954e-04 - val_loss: 12259.8604 - val_accuracy: 0.0000e+00\n",
      "Epoch 2/20\n",
      "911/911 [==============================] - 69s 76ms/step - loss: 7.7205e-05 - accuracy: 2.1954e-04 - val_loss: 12250.9395 - val_accuracy: 0.0000e+00\n",
      "Epoch 3/20\n",
      "911/911 [==============================] - 71s 78ms/step - loss: 6.8461e-05 - accuracy: 2.1954e-04 - val_loss: 12244.1816 - val_accuracy: 0.0000e+00\n",
      "Epoch 4/20\n",
      "911/911 [==============================] - 73s 80ms/step - loss: 7.2533e-05 - accuracy: 2.1954e-04 - val_loss: 12256.4961 - val_accuracy: 0.0000e+00\n",
      "Epoch 5/20\n",
      "911/911 [==============================] - 69s 76ms/step - loss: 5.9998e-05 - accuracy: 2.1954e-04 - val_loss: 12263.8018 - val_accuracy: 0.0000e+00\n",
      "Epoch 6/20\n",
      "911/911 [==============================] - 72s 79ms/step - loss: 6.0146e-05 - accuracy: 2.1954e-04 - val_loss: 12254.1348 - val_accuracy: 0.0000e+00\n",
      "Epoch 7/20\n",
      "911/911 [==============================] - 72s 79ms/step - loss: 5.9133e-05 - accuracy: 2.1954e-04 - val_loss: 12255.9346 - val_accuracy: 0.0000e+00\n",
      "Epoch 8/20\n",
      "911/911 [==============================] - 70s 77ms/step - loss: 6.1368e-05 - accuracy: 2.1954e-04 - val_loss: 12257.2803 - val_accuracy: 0.0000e+00\n",
      "Epoch 9/20\n",
      "911/911 [==============================] - 69s 76ms/step - loss: 5.1429e-05 - accuracy: 2.1954e-04 - val_loss: 12254.2832 - val_accuracy: 0.0000e+00\n",
      "Epoch 10/20\n",
      "911/911 [==============================] - 69s 76ms/step - loss: 4.9771e-05 - accuracy: 2.1954e-04 - val_loss: 12277.4980 - val_accuracy: 0.0000e+00\n",
      "Epoch 11/20\n",
      "911/911 [==============================] - 69s 76ms/step - loss: 5.6267e-05 - accuracy: 2.1954e-04 - val_loss: 12257.9365 - val_accuracy: 0.0000e+00\n",
      "Epoch 12/20\n",
      "911/911 [==============================] - 70s 76ms/step - loss: 4.8784e-05 - accuracy: 2.1954e-04 - val_loss: 12274.5449 - val_accuracy: 0.0000e+00\n",
      "Epoch 13/20\n",
      "911/911 [==============================] - 69s 76ms/step - loss: 4.7530e-05 - accuracy: 2.1954e-04 - val_loss: 12283.9346 - val_accuracy: 0.0000e+00\n",
      "Epoch 14/20\n",
      "911/911 [==============================] - 69s 76ms/step - loss: 4.8511e-05 - accuracy: 2.1954e-04 - val_loss: 12284.2334 - val_accuracy: 0.0000e+00\n",
      "Epoch 15/20\n",
      "911/911 [==============================] - 69s 76ms/step - loss: 4.9394e-05 - accuracy: 2.1954e-04 - val_loss: 12287.0098 - val_accuracy: 0.0000e+00\n",
      "Epoch 16/20\n",
      "911/911 [==============================] - 74s 81ms/step - loss: 4.2084e-05 - accuracy: 2.1954e-04 - val_loss: 12279.3232 - val_accuracy: 0.0000e+00\n",
      "Epoch 17/20\n",
      "911/911 [==============================] - 75s 83ms/step - loss: 4.7873e-05 - accuracy: 2.1954e-04 - val_loss: 12287.2383 - val_accuracy: 0.0000e+00\n",
      "Epoch 18/20\n",
      "911/911 [==============================] - 70s 77ms/step - loss: 4.1207e-05 - accuracy: 2.1954e-04 - val_loss: 12288.1748 - val_accuracy: 0.0000e+00\n",
      "Epoch 19/20\n",
      "911/911 [==============================] - 71s 78ms/step - loss: 4.5972e-05 - accuracy: 2.1954e-04 - val_loss: 12283.2441 - val_accuracy: 0.0000e+00\n",
      "Epoch 20/20\n",
      "911/911 [==============================] - 70s 77ms/step - loss: 3.9525e-05 - accuracy: 2.1954e-04 - val_loss: 12287.6709 - val_accuracy: 0.0000e+00\n"
     ]
    }
   ],
   "source": [
    "r=model.fit(x_train,y_train,validation_data=(x_test,y_test),batch_size=5,epochs=20)"
   ]
  },
  {
   "cell_type": "code",
   "execution_count": 158,
   "id": "8097e251",
   "metadata": {},
   "outputs": [
    {
     "name": "stdout",
     "output_type": "stream",
     "text": [
      "Model: \"sequential_5\"\n",
      "_________________________________________________________________\n",
      " Layer (type)                Output Shape              Param #   \n",
      "=================================================================\n",
      " lstm_13 (LSTM)              (None, 60, 80)            26240     \n",
      "                                                                 \n",
      " dropout_12 (Dropout)        (None, 60, 80)            0         \n",
      "                                                                 \n",
      " lstm_14 (LSTM)              (None, 60, 80)            51520     \n",
      "                                                                 \n",
      " dropout_13 (Dropout)        (None, 60, 80)            0         \n",
      "                                                                 \n",
      " lstm_15 (LSTM)              (None, 80)                51520     \n",
      "                                                                 \n",
      " dropout_14 (Dropout)        (None, 80)                0         \n",
      "                                                                 \n",
      " dense_8 (Dense)             (None, 25)                2025      \n",
      "                                                                 \n",
      " dense_9 (Dense)             (None, 1)                 26        \n",
      "                                                                 \n",
      "=================================================================\n",
      "Total params: 131,331\n",
      "Trainable params: 131,331\n",
      "Non-trainable params: 0\n",
      "_________________________________________________________________\n"
     ]
    }
   ],
   "source": [
    "model.summary()"
   ]
  },
  {
   "cell_type": "code",
   "execution_count": 159,
   "id": "19c50c81",
   "metadata": {
    "scrolled": true
   },
   "outputs": [
    {
     "data": {
      "text/plain": [
       "[<matplotlib.lines.Line2D at 0x18b9d4189d0>]"
      ]
     },
     "execution_count": 159,
     "metadata": {},
     "output_type": "execute_result"
    },
    {
     "data": {
      "image/png": "[encoded data removed]",
      "text/plain": [
       "<Figure size 432x288 with 1 Axes>"
      ]
     },
     "metadata": {
      "needs_background": "light"
     },
     "output_type": "display_data"
    }
   ],
   "source": [
    "plt.plot(r.history['loss'],label='loss')"
   ]
  },
  {
   "cell_type": "code",
   "execution_count": 166,
   "id": "3fe3a9a0",
   "metadata": {
    "scrolled": true
   },
   "outputs": [
    {
     "name": "stdout",
     "output_type": "stream",
     "text": [
      "36/36 [==============================] - 4s 94ms/step\n"
     ]
    }
   ],
   "source": [
    "y_pred=model.predict(x_test)"
   ]
  },
  {
   "cell_type": "code",
   "execution_count": 167,
   "id": "f0f313d8",
   "metadata": {
    "scrolled": false
   },
   "outputs": [
    {
     "data": {
      "text/plain": [
       "array([[0.23818886],\n",
       "       [0.24208409],\n",
       "       [0.24680296],\n",
       "       ...,\n",
       "       [0.7738041 ],\n",
       "       [0.7737468 ],\n",
       "       [0.77442807]], dtype=float32)"
      ]
     },
     "execution_count": 167,
     "metadata": {},
     "output_type": "execute_result"
    }
   ],
   "source": [
    "y_pred"
   ]
  },
  {
   "cell_type": "code",
   "execution_count": 170,
   "id": "280117b9",
   "metadata": {},
   "outputs": [],
   "source": [
    "y_pred_unscaled=scaler.inverse_transform(y_pred)"
   ]
  },
  {
   "cell_type": "code",
   "execution_count": 173,
   "id": "a151e2b1",
   "metadata": {},
   "outputs": [
    {
     "data": {
      "text/html": [
       "<div>\n",
       "<style scoped>\n",
       "    .dataframe tbody tr th:only-of-type {\n",
       "        vertical-align: middle;\n",
       "    }\n",
       "\n",
       "    .dataframe tbody tr th {\n",
       "        vertical-align: top;\n",
       "    }\n",
       "\n",
       "    .dataframe thead th {\n",
       "        text-align: right;\n",
       "    }\n",
       "</style>\n",
       "<table border=\"1\" class=\"dataframe\">\n",
       "  <thead>\n",
       "    <tr style=\"text-align: right;\">\n",
       "      <th></th>\n",
       "      <th>0</th>\n",
       "    </tr>\n",
       "  </thead>\n",
       "  <tbody>\n",
       "    <tr>\n",
       "      <th>0</th>\n",
       "      <td>43.531235</td>\n",
       "    </tr>\n",
       "    <tr>\n",
       "      <th>1</th>\n",
       "      <td>44.239292</td>\n",
       "    </tr>\n",
       "    <tr>\n",
       "      <th>2</th>\n",
       "      <td>45.097069</td>\n",
       "    </tr>\n",
       "    <tr>\n",
       "      <th>3</th>\n",
       "      <td>46.148296</td>\n",
       "    </tr>\n",
       "    <tr>\n",
       "      <th>4</th>\n",
       "      <td>47.184486</td>\n",
       "    </tr>\n",
       "    <tr>\n",
       "      <th>...</th>\n",
       "      <td>...</td>\n",
       "    </tr>\n",
       "    <tr>\n",
       "      <th>1147</th>\n",
       "      <td>140.298660</td>\n",
       "    </tr>\n",
       "    <tr>\n",
       "      <th>1148</th>\n",
       "      <td>140.834229</td>\n",
       "    </tr>\n",
       "    <tr>\n",
       "      <th>1149</th>\n",
       "      <td>140.893082</td>\n",
       "    </tr>\n",
       "    <tr>\n",
       "      <th>1150</th>\n",
       "      <td>140.882660</td>\n",
       "    </tr>\n",
       "    <tr>\n",
       "      <th>1151</th>\n",
       "      <td>141.006500</td>\n",
       "    </tr>\n",
       "  </tbody>\n",
       "</table>\n",
       "<p>1152 rows × 1 columns</p>\n",
       "</div>"
      ],
      "text/plain": [
       "               0\n",
       "0      43.531235\n",
       "1      44.239292\n",
       "2      45.097069\n",
       "3      46.148296\n",
       "4      47.184486\n",
       "...          ...\n",
       "1147  140.298660\n",
       "1148  140.834229\n",
       "1149  140.893082\n",
       "1150  140.882660\n",
       "1151  141.006500\n",
       "\n",
       "[1152 rows x 1 columns]"
      ]
     },
     "execution_count": 173,
     "metadata": {},
     "output_type": "execute_result"
    }
   ],
   "source": [
    "pd.DataFrame(y_pred_unscaled)"
   ]
  },
  {
   "cell_type": "markdown",
   "id": "4cc16058",
   "metadata": {},
   "source": [
    "### RMSE"
   ]
  },
  {
   "cell_type": "code",
   "execution_count": 175,
   "id": "6e7cb840",
   "metadata": {},
   "outputs": [
    {
     "data": {
      "text/plain": [
       "2.8341415756278567"
      ]
     },
     "execution_count": 175,
     "metadata": {},
     "output_type": "execute_result"
    }
   ],
   "source": [
    "rmse=np.sqrt(np.mean(y_pred_scaled-y_test)**2)\n",
    "rmse"
   ]
  },
  {
   "cell_type": "code",
   "execution_count": 176,
   "id": "2b4ac3fa",
   "metadata": {
    "scrolled": false
   },
   "outputs": [
    {
     "name": "stderr",
     "output_type": "stream",
     "text": [
      "C:\\Users\\user\\AppData\\Local\\Temp\\ipykernel_19532\\2470061396.py:3: SettingWithCopyWarning: \n",
      "A value is trying to be set on a copy of a slice from a DataFrame.\n",
      "Try using .loc[row_indexer,col_indexer] = value instead\n",
      "\n",
      "See the caveats in the documentation: https://pandas.pydata.org/pandas-docs/stable/user_guide/indexing.html#returning-a-view-versus-a-copy\n",
      "  valid['y_pred_scaled']=y_pred_scaled\n"
     ]
    }
   ],
   "source": [
    "train=data[:training_data_len]\n",
    "valid=data[training_data_len:]\n",
    "valid['y_pred_scaled']=y_pred_scaled"
   ]
  },
  {
   "cell_type": "code",
   "execution_count": 178,
   "id": "bc7f4532",
   "metadata": {},
   "outputs": [
    {
     "data": {
      "text/plain": [
       "Date\n",
       "2018-05-02     43.531235\n",
       "2018-05-03     44.239292\n",
       "2018-05-04     45.097069\n",
       "2018-05-07     46.148296\n",
       "2018-05-08     47.184486\n",
       "                 ...    \n",
       "2022-11-18    140.298660\n",
       "2022-11-21    140.834229\n",
       "2022-11-22    140.893082\n",
       "2022-11-23    140.882660\n",
       "2022-11-25    141.006500\n",
       "Name: y_pred_scaled, Length: 1152, dtype: float32"
      ]
     },
     "execution_count": 178,
     "metadata": {},
     "output_type": "execute_result"
    }
   ],
   "source": [
    "valid['y_pred_scaled']"
   ]
  },
  {
   "cell_type": "code",
   "execution_count": 179,
   "id": "ba65dd52",
   "metadata": {},
   "outputs": [
    {
     "data": {
      "image/png": "[encoded data removed]",
      "text/plain": [
       "<Figure size 1080x576 with 1 Axes>"
      ]
     },
     "metadata": {
      "needs_background": "light"
     },
     "output_type": "display_data"
    }
   ],
   "source": [
    "plt.figure(figsize=(15,8))\n",
    "plt.title('Model',fontsize=30)\n",
    "plt.xlabel('Date',fontsize=28)\n",
    "plt.ylabel('Close',fontsize=28)\n",
    "plt.plot(train['Close'])\n",
    "plt.plot(valid[['Close','y_pred_scaled']])\n",
    "plt.legend(['Train','Val','y_pred_scaled'],loc='lower right')\n",
    "plt.show()"
   ]
  },
  {
   "cell_type": "code",
   "execution_count": 180,
   "id": "4fc5f909",
   "metadata": {},
   "outputs": [
    {
     "data": {
      "text/html": [
       "<div>\n",
       "<style scoped>\n",
       "    .dataframe tbody tr th:only-of-type {\n",
       "        vertical-align: middle;\n",
       "    }\n",
       "\n",
       "    .dataframe tbody tr th {\n",
       "        vertical-align: top;\n",
       "    }\n",
       "\n",
       "    .dataframe thead th {\n",
       "        text-align: right;\n",
       "    }\n",
       "</style>\n",
       "<table border=\"1\" class=\"dataframe\">\n",
       "  <thead>\n",
       "    <tr style=\"text-align: right;\">\n",
       "      <th></th>\n",
       "      <th>Close</th>\n",
       "      <th>y_pred_scaled</th>\n",
       "    </tr>\n",
       "    <tr>\n",
       "      <th>Date</th>\n",
       "      <th></th>\n",
       "      <th></th>\n",
       "    </tr>\n",
       "  </thead>\n",
       "  <tbody>\n",
       "    <tr>\n",
       "      <th>2022-10-28</th>\n",
       "      <td>155.740005</td>\n",
       "      <td>139.998978</td>\n",
       "    </tr>\n",
       "    <tr>\n",
       "      <th>2022-10-31</th>\n",
       "      <td>153.339996</td>\n",
       "      <td>140.608597</td>\n",
       "    </tr>\n",
       "    <tr>\n",
       "      <th>2022-11-01</th>\n",
       "      <td>150.649994</td>\n",
       "      <td>141.421799</td>\n",
       "    </tr>\n",
       "    <tr>\n",
       "      <th>2022-11-02</th>\n",
       "      <td>145.029999</td>\n",
       "      <td>141.859070</td>\n",
       "    </tr>\n",
       "    <tr>\n",
       "      <th>2022-11-03</th>\n",
       "      <td>138.880005</td>\n",
       "      <td>141.369614</td>\n",
       "    </tr>\n",
       "    <tr>\n",
       "      <th>2022-11-04</th>\n",
       "      <td>138.380005</td>\n",
       "      <td>139.746643</td>\n",
       "    </tr>\n",
       "    <tr>\n",
       "      <th>2022-11-07</th>\n",
       "      <td>138.919998</td>\n",
       "      <td>137.710007</td>\n",
       "    </tr>\n",
       "    <tr>\n",
       "      <th>2022-11-08</th>\n",
       "      <td>139.500000</td>\n",
       "      <td>135.971588</td>\n",
       "    </tr>\n",
       "    <tr>\n",
       "      <th>2022-11-09</th>\n",
       "      <td>134.869995</td>\n",
       "      <td>134.847305</td>\n",
       "    </tr>\n",
       "    <tr>\n",
       "      <th>2022-11-10</th>\n",
       "      <td>146.869995</td>\n",
       "      <td>133.736176</td>\n",
       "    </tr>\n",
       "    <tr>\n",
       "      <th>2022-11-11</th>\n",
       "      <td>149.699997</td>\n",
       "      <td>134.081528</td>\n",
       "    </tr>\n",
       "    <tr>\n",
       "      <th>2022-11-14</th>\n",
       "      <td>148.279999</td>\n",
       "      <td>135.612930</td>\n",
       "    </tr>\n",
       "    <tr>\n",
       "      <th>2022-11-15</th>\n",
       "      <td>150.039993</td>\n",
       "      <td>137.254059</td>\n",
       "    </tr>\n",
       "    <tr>\n",
       "      <th>2022-11-16</th>\n",
       "      <td>148.789993</td>\n",
       "      <td>138.700150</td>\n",
       "    </tr>\n",
       "    <tr>\n",
       "      <th>2022-11-17</th>\n",
       "      <td>150.720001</td>\n",
       "      <td>139.627884</td>\n",
       "    </tr>\n",
       "    <tr>\n",
       "      <th>2022-11-18</th>\n",
       "      <td>151.289993</td>\n",
       "      <td>140.298660</td>\n",
       "    </tr>\n",
       "    <tr>\n",
       "      <th>2022-11-21</th>\n",
       "      <td>148.009995</td>\n",
       "      <td>140.834229</td>\n",
       "    </tr>\n",
       "    <tr>\n",
       "      <th>2022-11-22</th>\n",
       "      <td>150.179993</td>\n",
       "      <td>140.893082</td>\n",
       "    </tr>\n",
       "    <tr>\n",
       "      <th>2022-11-23</th>\n",
       "      <td>151.070007</td>\n",
       "      <td>140.882660</td>\n",
       "    </tr>\n",
       "    <tr>\n",
       "      <th>2022-11-25</th>\n",
       "      <td>148.110001</td>\n",
       "      <td>141.006500</td>\n",
       "    </tr>\n",
       "  </tbody>\n",
       "</table>\n",
       "</div>"
      ],
      "text/plain": [
       "                 Close  y_pred_scaled\n",
       "Date                                 \n",
       "2022-10-28  155.740005     139.998978\n",
       "2022-10-31  153.339996     140.608597\n",
       "2022-11-01  150.649994     141.421799\n",
       "2022-11-02  145.029999     141.859070\n",
       "2022-11-03  138.880005     141.369614\n",
       "2022-11-04  138.380005     139.746643\n",
       "2022-11-07  138.919998     137.710007\n",
       "2022-11-08  139.500000     135.971588\n",
       "2022-11-09  134.869995     134.847305\n",
       "2022-11-10  146.869995     133.736176\n",
       "2022-11-11  149.699997     134.081528\n",
       "2022-11-14  148.279999     135.612930\n",
       "2022-11-15  150.039993     137.254059\n",
       "2022-11-16  148.789993     138.700150\n",
       "2022-11-17  150.720001     139.627884\n",
       "2022-11-18  151.289993     140.298660\n",
       "2022-11-21  148.009995     140.834229\n",
       "2022-11-22  150.179993     140.893082\n",
       "2022-11-23  151.070007     140.882660\n",
       "2022-11-25  148.110001     141.006500"
      ]
     },
     "execution_count": 180,
     "metadata": {},
     "output_type": "execute_result"
    }
   ],
   "source": [
    "valid.tail(20)"
   ]
  },
  {
   "cell_type": "code",
   "execution_count": 181,
   "id": "ae8e5ad1",
   "metadata": {},
   "outputs": [
    {
     "name": "stdout",
     "output_type": "stream",
     "text": [
      "1/1 [==============================] - 4s 4s/step\n",
      "[[140.90329]]\n"
     ]
    }
   ],
   "source": [
    "apple=web.DataReader('AAPL',data_source='yahoo',start='2000-01-01',end='2022-11-25')\n",
    "new_df=apple.filter(['Close'])\n",
    "last_60_days=new_df[-60:].values\n",
    "last_60_days_scaled=scaler.transform(last_60_days)\n",
    "X_test=[]\n",
    "X_test.append(last_60_days_scaled)\n",
    "X_test=np.array(X_test)\n",
    "X_test=np.reshape(X_test,(X_test.shape[0],X_test.shape[1],1))\n",
    "pred_price=model.predict(X_test)\n",
    "pred_price=scaler.inverse_transform(pred_price)\n",
    "print(pred_price)"
   ]
  },
  {
   "cell_type": "code",
   "execution_count": 182,
   "id": "b2263953",
   "metadata": {},
   "outputs": [],
   "source": [
    "apple2=web.DataReader('AAPL',data_source='yahoo',start='2022-11-26',end='2022-11-26')"
   ]
  },
  {
   "cell_type": "code",
   "execution_count": 183,
   "id": "8ba048be",
   "metadata": {},
   "outputs": [
    {
     "name": "stdout",
     "output_type": "stream",
     "text": [
      "Date\n",
      "2022-11-25    148.110001\n",
      "Name: Close, dtype: float64\n"
     ]
    }
   ],
   "source": [
    "print(apple2['Close'])"
   ]
  }
 ],
 "metadata": {
  "kernelspec": {
   "display_name": "Python 3 (ipykernel)",
   "language": "python",
   "name": "python3"
  },
  "language_info": {
   "codemirror_mode": {
    "name": "ipython",
    "version": 3
   },
   "file_extension": ".py",
   "mimetype": "text/x-python",
   "name": "python",
   "nbconvert_exporter": "python",
   "pygments_lexer": "ipython3",
   "version": "3.10.5"
  }
 },
 "nbformat": 4,
 "nbformat_minor": 5
}
